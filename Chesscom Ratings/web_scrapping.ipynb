{
 "cells": [
  {
   "cell_type": "code",
   "execution_count": 1,
   "metadata": {},
   "outputs": [],
   "source": [
    "# import libraries\n",
    "import requests\n",
    "from bs4 import BeautifulSoup\n",
    "import pandas as pd\n",
    "\n",
    "# to avoid errors regarding browsers\n",
    "header = {'User-Agent':\"Mozilla/5.0 (X11; CrOS x86_64 8172.45.0) AppleWebKit/537.36 (KHTML, like Gecko) Chrome/51.0.2704.64 Safari/537.36\"}"
   ]
  },
  {
   "cell_type": "code",
   "execution_count": 2,
   "metadata": {},
   "outputs": [],
   "source": [
    "URLs =['https://www.chess.com/ratings/standard/all',\n",
    "        'https://www.chess.com/ratings/rapid/all',\n",
    "        'https://www.chess.com/ratings/blitz/all',\n",
    "        'https://www.chess.com/ratings/u20',\n",
    "        'https://www.chess.com/ratings/rapid/u20',\n",
    "        'https://www.chess.com/ratings/blitz/u20',\n",
    "        'https://www.chess.com/ratings/women',\n",
    "        'https://www.chess.com/ratings/rapid/women',\n",
    "        'https://www.chess.com/ratings/blitz/women'\n",
    "    ]\n",
    "\n",
    "## the process is followed for all three URLs\n",
    "for URL in URLs:\n",
    "    ## for naming conventtion later, we will use some part of URL\n",
    "    splits = URL.split('/')\n",
    "    category = splits[-1]\n",
    "    format = splits[-2]\n",
    "\n",
    "    r = requests.get(URL, headers = header)\n",
    "    soup = BeautifulSoup(r.content,'html5lib')\n",
    "    # print(soup.prettify())\n",
    "\n",
    "    # get all divs from the table\n",
    "    div = soup.find('div',attrs={'class':'master-players-rating-wrapper table-responsive'})\n",
    "    rank = [row.text.strip() for row in div.find_all('div',attrs={'class':'master-players-rating-rank'})]\n",
    "    title = [row.text for row in div.find_all('span')][3:]\n",
    "    name = [row.text.strip() for row in div.find_all('a',attrs={'class':'master-players-rating-username'})]\n",
    "    ratings = [row.text.strip() for row in div.find_all('div',attrs={'class':'master-players-rating-player-rank'})]\n",
    "    \n",
    "    ## ratings contained all three values for all formats so divide them into \n",
    "    ## three separate lists using % \n",
    "    classical = []\n",
    "    rapid = []\n",
    "    blitz = []\n",
    "\n",
    "    for i in range(0, len(ratings)):\n",
    "        if i%3 == 0:\n",
    "            classical.append(ratings[i])\n",
    "        elif i%3 == 1:\n",
    "            rapid.append(ratings[i])\n",
    "        else:\n",
    "            blitz.append(ratings[i])\n",
    "    \n",
    "    ## for country there is no text present, so we will extract country values from the \n",
    "    ## attributes of the respective element\n",
    "    country = []\n",
    "    for row in div.find_all(attrs={'class':'master-players-rating-user-flag'}):\n",
    "    \n",
    "    ## beacause of political issues FIDE changed russian flag to unnamed, so we will \n",
    "    ## replace them as original for our ease\n",
    "        if row['v-tooltip'] == \"'Click here to see our stance on the war in Ukraine'\":\n",
    "            country.append('Russia')\n",
    "        else:\n",
    "            country.append(row['v-tooltip'])\n",
    "\n",
    "    #Converting to DataFrame to csv file\n",
    "    data = {'rank':rank,'title':title,'name':name,'country':country,'classical':classical,'rapid':rapid,'blitz':blitz}\n",
    "    df = pd.DataFrame(data)\n",
    "    df.to_csv(category+'_'+format+'_ratings.csv')"
   ]
  }
 ],
 "metadata": {
  "kernelspec": {
   "display_name": "Python 3.8.6 64-bit",
   "language": "python",
   "name": "python3"
  },
  "language_info": {
   "codemirror_mode": {
    "name": "ipython",
    "version": 3
   },
   "file_extension": ".py",
   "mimetype": "text/x-python",
   "name": "python",
   "nbconvert_exporter": "python",
   "pygments_lexer": "ipython3",
   "version": "3.8.6"
  },
  "orig_nbformat": 4,
  "vscode": {
   "interpreter": {
    "hash": "f10baa5b3d4a9dc3d5b34fbeebfe08e4928904525b5dad22aa919ba5b8f3b95e"
   }
  }
 },
 "nbformat": 4,
 "nbformat_minor": 2
}
